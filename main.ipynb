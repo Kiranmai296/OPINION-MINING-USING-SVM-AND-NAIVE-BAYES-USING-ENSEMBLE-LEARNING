{
 "cells": [
  {
   "cell_type": "markdown",
   "metadata": {},
   "source": [
    "Introduction to the Sentiment Analysis Model using Ensemble Learning\n",
    "This project focuses on sentiment analysis of customer reviews using an ensemble learning approach that combines Support Vector Machine (SVM) and Naïve Bayes classifiers. The model predicts whether a given review is Positive, Negative, or Neutral, helping businesses gain insights from customer feedback."
   ]
  },
  {
   "cell_type": "markdown",
   "metadata": {},
   "source": [
    "load dataset"
   ]
  },
  {
   "cell_type": "code",
   "execution_count": 1,
   "metadata": {},
   "outputs": [
    {
     "name": "stdout",
     "output_type": "stream",
     "text": [
      "Dataset Loaded Successfully!\n",
      "Dataset Shape: (20491, 2)\n",
      "Columns: Index(['Review', 'Rating'], dtype='object')\n",
      "First 5 Rows:\n",
      "                                               Review  Rating\n",
      "0  nice hotel expensive parking got good deal sta...       4\n",
      "1  ok nothing special charge diamond member hilto...       2\n",
      "2  nice rooms not 4* experience hotel monaco seat...       3\n",
      "3  unique, great stay, wonderful time hotel monac...       5\n",
      "4  great stay great stay, went seahawk game aweso...       5\n"
     ]
    }
   ],
   "source": [
    "import pandas as pd\n",
    "\n",
    "# Load the new dataset\n",
    "file_path = \"C:/Users/kiran/OneDrive/Documents/personal/PROJECTS/OPINION MINING-S_N/tripadvisor_hotel_reviews.csv\"  # Update with your actual file path\n",
    "data = pd.read_csv(file_path)\n",
    "\n",
    "# Display basic information\n",
    "print(\"Dataset Loaded Successfully!\")\n",
    "print(\"Dataset Shape:\", data.shape)\n",
    "print(\"Columns:\", data.columns)\n",
    "print(\"First 5 Rows:\\n\", data.head())"
   ]
  },
  {
   "cell_type": "markdown",
   "metadata": {},
   "source": [
    "Detailed information about your dataset"
   ]
  },
  {
   "cell_type": "code",
   "execution_count": 2,
   "metadata": {},
   "outputs": [
    {
     "name": "stdout",
     "output_type": "stream",
     "text": [
      "Dataset Info:\n",
      "<class 'pandas.core.frame.DataFrame'>\n",
      "RangeIndex: 20491 entries, 0 to 20490\n",
      "Data columns (total 2 columns):\n",
      " #   Column  Non-Null Count  Dtype \n",
      "---  ------  --------------  ----- \n",
      " 0   Review  20491 non-null  object\n",
      " 1   Rating  20491 non-null  int64 \n",
      "dtypes: int64(1), object(1)\n",
      "memory usage: 320.3+ KB\n",
      "None\n",
      "\n",
      "Missing Values:\n",
      " Review    0\n",
      "Rating    0\n",
      "dtype: int64\n",
      "\n",
      "Dataset Summary:\n",
      "                                                    Review        Rating\n",
      "count                                               20491  20491.000000\n",
      "unique                                              20491           NaN\n",
      "top     people talking, ca n't believe excellent ratin...           NaN\n",
      "freq                                                    1           NaN\n",
      "mean                                                  NaN      3.952223\n",
      "std                                                   NaN      1.233030\n",
      "min                                                   NaN      1.000000\n",
      "25%                                                   NaN      3.000000\n",
      "50%                                                   NaN      4.000000\n",
      "75%                                                   NaN      5.000000\n",
      "max                                                   NaN      5.000000\n"
     ]
    }
   ],
   "source": [
    "# Display dataset information\n",
    "print(\"Dataset Info:\")\n",
    "print(data.info())\n",
    "\n",
    "# Check for missing values\n",
    "print(\"\\nMissing Values:\\n\", data.isnull().sum())\n",
    "\n",
    "# Display basic statistics\n",
    "print(\"\\nDataset Summary:\\n\", data.describe(include='all'))\n"
   ]
  },
  {
   "cell_type": "markdown",
   "metadata": {},
   "source": [
    "label sentiments based on the \"Rating\" column"
   ]
  },
  {
   "cell_type": "code",
   "execution_count": 3,
   "metadata": {},
   "outputs": [
    {
     "name": "stdout",
     "output_type": "stream",
     "text": [
      "Sentiment Distribution:\n",
      " Sentiment\n",
      "Positive    15093\n",
      "Negative     3214\n",
      "Neutral      2184\n",
      "Name: count, dtype: int64\n",
      "\n",
      "Updated Dataset Sample:\n",
      "                                               Review  Rating Sentiment\n",
      "0  nice hotel expensive parking got good deal sta...       4  Positive\n",
      "1  ok nothing special charge diamond member hilto...       2  Negative\n",
      "2  nice rooms not 4* experience hotel monaco seat...       3   Neutral\n",
      "3  unique, great stay, wonderful time hotel monac...       5  Positive\n",
      "4  great stay great stay, went seahawk game aweso...       5  Positive\n"
     ]
    }
   ],
   "source": [
    "# Function to classify ratings into sentiments\n",
    "def label_sentiment(rating):\n",
    "    if rating <= 2:\n",
    "        return \"Negative\"\n",
    "    elif rating == 3:\n",
    "        return \"Neutral\"\n",
    "    else:\n",
    "        return \"Positive\"\n",
    "\n",
    "# Apply the function to create a new column\n",
    "data[\"Sentiment\"] = data[\"Rating\"].apply(label_sentiment)\n",
    "\n",
    "# Display sentiment distribution\n",
    "print(\"Sentiment Distribution:\\n\", data[\"Sentiment\"].value_counts())\n",
    "\n",
    "# Show updated dataset\n",
    "print(\"\\nUpdated Dataset Sample:\\n\", data.head())\n"
   ]
  },
  {
   "cell_type": "markdown",
   "metadata": {},
   "source": [
    "Cleaning the Reviews"
   ]
  },
  {
   "cell_type": "code",
   "execution_count": 4,
   "metadata": {},
   "outputs": [
    {
     "name": "stderr",
     "output_type": "stream",
     "text": [
      "[nltk_data] Downloading package stopwords to\n",
      "[nltk_data]     C:\\Users\\kiran\\AppData\\Roaming\\nltk_data...\n",
      "[nltk_data]   Unzipping corpora\\stopwords.zip.\n"
     ]
    },
    {
     "name": "stdout",
     "output_type": "stream",
     "text": [
      "Cleaned Reviews:\n",
      "                                       Cleaned_Review Sentiment\n",
      "0  nice hotel expensive parking got good deal sta...  Positive\n",
      "1  ok nothing special charge diamond member hilto...  Negative\n",
      "2  nice rooms experience hotel monaco seattle goo...   Neutral\n",
      "3  unique great stay wonderful time hotel monaco ...  Positive\n",
      "4  great stay great stay went seahawk game awesom...  Positive\n",
      "Cleaned dataset saved as 'cleaned_reviews.csv'\n"
     ]
    }
   ],
   "source": [
    "import re\n",
    "import nltk\n",
    "from nltk.corpus import stopwords\n",
    "\n",
    "# Download stopwords if not already available\n",
    "nltk.download(\"stopwords\")\n",
    "stop_words = set(stopwords.words(\"english\"))\n",
    "\n",
    "# Function to clean the text\n",
    "def clean_text(text):\n",
    "    text = text.lower()  # Convert to lowercase\n",
    "    text = re.sub(r\"[^a-z\\s]\", \"\", text)  # Remove special characters and numbers\n",
    "    text = \" \".join(word for word in text.split() if word not in stop_words)  # Remove stopwords\n",
    "    return text\n",
    "\n",
    "# Apply cleaning function\n",
    "data[\"Cleaned_Review\"] = data[\"Review\"].apply(clean_text)\n",
    "\n",
    "# Show sample cleaned reviews\n",
    "print(\"Cleaned Reviews:\\n\", data[[\"Cleaned_Review\", \"Sentiment\"]].head())\n",
    "\n",
    "# Save the cleaned data\n",
    "data.to_csv(\"cleaned_reviews.csv\", index=False)\n",
    "print(\"Cleaned dataset saved as 'cleaned_reviews.csv'\")\n"
   ]
  },
  {
   "cell_type": "markdown",
   "metadata": {},
   "source": [
    "TF-IDF Vectorization"
   ]
  },
  {
   "cell_type": "code",
   "execution_count": 5,
   "metadata": {},
   "outputs": [
    {
     "name": "stdout",
     "output_type": "stream",
     "text": [
      "TF-IDF Vectorization Complete!\n",
      "TF-IDF Matrix Shape: (20491, 5000)\n"
     ]
    }
   ],
   "source": [
    "from sklearn.feature_extraction.text import TfidfVectorizer\n",
    "import pickle\n",
    "\n",
    "# Initialize TF-IDF Vectorizer\n",
    "tfidf_vectorizer = TfidfVectorizer(max_features=5000)  # Convert text to a matrix of TF-IDF features\n",
    "\n",
    "# Fit and transform the cleaned reviews\n",
    "X = tfidf_vectorizer.fit_transform(data[\"Cleaned_Review\"])\n",
    "\n",
    "# Save the TF-IDF vectorizer for future use\n",
    "with open(\"tfidf_vectorizer.pkl\", \"wb\") as file:\n",
    "    pickle.dump(tfidf_vectorizer, file)\n",
    "\n",
    "print(\"TF-IDF Vectorization Complete!\")\n",
    "print(\"TF-IDF Matrix Shape:\", X.shape)  # Should be (20491, 5000)"
   ]
  },
  {
   "cell_type": "markdown",
   "metadata": {},
   "source": [
    "Train-Test Split"
   ]
  },
  {
   "cell_type": "code",
   "execution_count": 6,
   "metadata": {},
   "outputs": [
    {
     "name": "stdout",
     "output_type": "stream",
     "text": [
      "Training Set Shape: (16392, 5000) 16392\n",
      "Testing Set Shape: (4099, 5000) 4099\n"
     ]
    }
   ],
   "source": [
    "from sklearn.model_selection import train_test_split\n",
    "\n",
    "# Define target variable (Sentiment)\n",
    "y = data[\"Sentiment\"]\n",
    "\n",
    "# Split dataset (80% training, 20% testing)\n",
    "X_train, X_test, y_train, y_test = train_test_split(X, y, test_size=0.2, random_state=42, stratify=y)\n",
    "\n",
    "print(\"Training Set Shape:\", X_train.shape, len(y_train))\n",
    "print(\"Testing Set Shape:\", X_test.shape, len(y_test))\n"
   ]
  },
  {
   "cell_type": "markdown",
   "metadata": {},
   "source": [
    "Sentiment Counts in Train & Test Sets"
   ]
  },
  {
   "cell_type": "code",
   "execution_count": 7,
   "metadata": {},
   "outputs": [
    {
     "name": "stdout",
     "output_type": "stream",
     "text": [
      "Training Sentiment Distribution:\n",
      " Sentiment\n",
      "Positive    12074\n",
      "Negative     2571\n",
      "Neutral      1747\n",
      "Name: count, dtype: int64\n",
      "\n",
      "Testing Sentiment Distribution:\n",
      " Sentiment\n",
      "Positive    3019\n",
      "Negative     643\n",
      "Neutral      437\n",
      "Name: count, dtype: int64\n"
     ]
    }
   ],
   "source": [
    "# Count of sentiments in training set\n",
    "train_counts = y_train.value_counts()\n",
    "print(\"Training Sentiment Distribution:\\n\", train_counts)\n",
    "\n",
    "# Count of sentiments in testing set\n",
    "test_counts = y_test.value_counts()\n",
    "print(\"\\nTesting Sentiment Distribution:\\n\", test_counts)"
   ]
  },
  {
   "cell_type": "markdown",
   "metadata": {},
   "source": [
    "Train an Ensemble Model (VotingClassifier)"
   ]
  },
  {
   "cell_type": "code",
   "execution_count": 8,
   "metadata": {},
   "outputs": [
    {
     "name": "stdout",
     "output_type": "stream",
     "text": [
      "Ensemble model trained and saved successfully!\n"
     ]
    }
   ],
   "source": [
    "from sklearn.naive_bayes import MultinomialNB\n",
    "from sklearn.svm import SVC\n",
    "from sklearn.ensemble import VotingClassifier\n",
    "\n",
    "# Define base models\n",
    "svm_model = SVC(kernel='linear', probability=True, random_state=42)\n",
    "nb_model = MultinomialNB()\n",
    "\n",
    "# Create ensemble model using VotingClassifier\n",
    "ensemble_model = VotingClassifier(\n",
    "    estimators=[('svm', svm_model), ('nb', nb_model)], voting='soft'\n",
    ")\n",
    "\n",
    "# Train the ensemble model\n",
    "ensemble_model.fit(X_train, y_train)\n",
    "\n",
    "# Save the trained model\n",
    "import pickle\n",
    "with open(\"final_ensemble_model.pkl\", \"wb\") as file:\n",
    "    pickle.dump(ensemble_model, file)\n",
    "\n",
    "print(\"Ensemble model trained and saved successfully!\")\n"
   ]
  },
  {
   "cell_type": "markdown",
   "metadata": {},
   "source": [
    " Evaluate the Model"
   ]
  },
  {
   "cell_type": "code",
   "execution_count": 9,
   "metadata": {},
   "outputs": [
    {
     "name": "stdout",
     "output_type": "stream",
     "text": [
      "Ensemble Model Accuracy: 0.8526\n",
      "\n",
      "Classification Report:\n",
      "               precision    recall  f1-score   support\n",
      "\n",
      "    Negative       0.80      0.75      0.78       643\n",
      "     Neutral       0.56      0.09      0.15       437\n",
      "    Positive       0.87      0.98      0.92      3019\n",
      "\n",
      "    accuracy                           0.85      4099\n",
      "   macro avg       0.74      0.61      0.62      4099\n",
      "weighted avg       0.82      0.85      0.82      4099\n",
      "\n"
     ]
    },
    {
     "data": {
      "image/png": "[encoded data removed]",
      "text/plain": [
       "<Figure size 600x500 with 2 Axes>"
      ]
     },
     "metadata": {},
     "output_type": "display_data"
    }
   ],
   "source": [
    "from sklearn.metrics import accuracy_score, classification_report, confusion_matrix\n",
    "import matplotlib.pyplot as plt\n",
    "import seaborn as sns\n",
    "\n",
    "# Load the trained model\n",
    "with open(\"final_ensemble_model.pkl\", \"rb\") as file:\n",
    "    loaded_model = pickle.load(file)\n",
    "\n",
    "# Make predictions\n",
    "y_pred = loaded_model.predict(X_test)\n",
    "\n",
    "# Calculate accuracy\n",
    "accuracy = accuracy_score(y_test, y_pred)\n",
    "print(f\"Ensemble Model Accuracy: {accuracy:.4f}\")\n",
    "\n",
    "# Display classification report\n",
    "print(\"\\nClassification Report:\\n\", classification_report(y_test, y_pred))\n",
    "\n",
    "# Confusion Matrix\n",
    "conf_matrix = confusion_matrix(y_test, y_pred)\n",
    "plt.figure(figsize=(6, 5))\n",
    "sns.heatmap(conf_matrix, annot=True, fmt=\"d\", cmap=\"Blues\", xticklabels=['Negative', 'Neutral', 'Positive'], yticklabels=['Negative', 'Neutral', 'Positive'])\n",
    "plt.xlabel(\"Predicted\")\n",
    "plt.ylabel(\"Actual\")\n",
    "plt.title(\"Confusion Matrix\")\n",
    "plt.show()\n"
   ]
  },
  {
   "cell_type": "markdown",
   "metadata": {},
   "source": [
    "Predict Sentiment for New Reviews"
   ]
  },
  {
   "cell_type": "code",
   "execution_count": 10,
   "metadata": {},
   "outputs": [
    {
     "name": "stdout",
     "output_type": "stream",
     "text": [
      "Review: The hotel was amazing! I loved the service and the rooms were clean.\n",
      "Predicted Sentiment: Positive\n",
      "\n",
      "Review: Worst experience ever! The room was dirty, and staff was rude.\n",
      "Predicted Sentiment: Negative\n",
      "\n",
      "Review: It was an okay stay, nothing special but not bad either.\n",
      "Predicted Sentiment: Negative\n",
      "\n"
     ]
    }
   ],
   "source": [
    "# Load the TF-IDF Vectorizer\n",
    "with open(\"tfidf_vectorizer.pkl\", \"rb\") as file:\n",
    "    tfidf_vectorizer = pickle.load(file)\n",
    "\n",
    "# Sample new reviews for testing\n",
    "new_reviews = [\n",
    "    \"The hotel was amazing! I loved the service and the rooms were clean.\",\n",
    "    \"Worst experience ever! The room was dirty, and staff was rude.\",\n",
    "    \"It was an okay stay, nothing special but not bad either.\"\n",
    "]\n",
    "\n",
    "# Transform the new reviews using the TF-IDF vectorizer\n",
    "new_reviews_tfidf = tfidf_vectorizer.transform(new_reviews)\n",
    "\n",
    "# Predict sentiments using the trained model\n",
    "new_predictions = loaded_model.predict(new_reviews_tfidf)\n",
    "\n",
    "# Display results\n",
    "for review, sentiment in zip(new_reviews, new_predictions):\n",
    "    print(f\"Review: {review}\\nPredicted Sentiment: {sentiment}\\n\")\n"
   ]
  },
  {
   "cell_type": "markdown",
   "metadata": {},
   "source": [
    "Save the Final Model and TF-IDF Vectorizer"
   ]
  },
  {
   "cell_type": "code",
   "execution_count": 11,
   "metadata": {},
   "outputs": [
    {
     "name": "stdout",
     "output_type": "stream",
     "text": [
      "Final model and TF-IDF vectorizer saved successfully!\n"
     ]
    }
   ],
   "source": [
    "import pickle\n",
    "\n",
    "# Save the trained model\n",
    "with open(\"final_ensemble_model.pkl\", \"wb\") as file:\n",
    "    pickle.dump(loaded_model, file)\n",
    "\n",
    "# Save the TF-IDF vectorizer\n",
    "with open(\"tfidf_vectorizer.pkl\", \"wb\") as file:\n",
    "    pickle.dump(tfidf_vectorizer, file)\n",
    "\n",
    "print(\"Final model and TF-IDF vectorizer saved successfully!\")\n"
   ]
  },
  {
   "cell_type": "markdown",
   "metadata": {},
   "source": [
    "To Load and Use the Model Again"
   ]
  },
  {
   "cell_type": "code",
   "execution_count": 12,
   "metadata": {},
   "outputs": [
    {
     "name": "stdout",
     "output_type": "stream",
     "text": [
      "Predicted Sentiment: Positive\n"
     ]
    }
   ],
   "source": [
    "import pickle\n",
    "\n",
    "# Load the trained model\n",
    "with open(\"final_ensemble_model.pkl\", \"rb\") as file:\n",
    "    loaded_model = pickle.load(file)\n",
    "\n",
    "# Load the TF-IDF Vectorizer\n",
    "with open(\"tfidf_vectorizer.pkl\", \"rb\") as file:\n",
    "    tfidf_vectorizer = pickle.load(file)\n",
    "\n",
    "# Sample input review for testing\n",
    "sample_review = [\"The staff was really helpful and friendly, had a great time!\"]\n",
    "\n",
    "# Transform the review using TF-IDF\n",
    "sample_tfidf = tfidf_vectorizer.transform(sample_review)\n",
    "\n",
    "# Predict sentiment\n",
    "predicted_sentiment = loaded_model.predict(sample_tfidf)\n",
    "\n",
    "print(\"Predicted Sentiment:\", predicted_sentiment[0])\n"
   ]
  },
  {
   "cell_type": "markdown",
   "metadata": {},
   "source": [
    "Hyperparameter Tuning"
   ]
  },
  {
   "cell_type": "code",
   "execution_count": 13,
   "metadata": {},
   "outputs": [
    {
     "name": "stdout",
     "output_type": "stream",
     "text": [
      "Fitting 3 folds for each of 12 candidates, totalling 36 fits\n",
      "Best SVM Parameters: {'C': 10, 'gamma': 'scale', 'kernel': 'rbf'}\n",
      "Fitting 3 folds for each of 3 candidates, totalling 9 fits\n",
      "Best Naïve Bayes Parameters: {'alpha': 0.1}\n",
      "Optimized Ensemble Model Accuracy: 0.8570383020248841\n",
      "\n",
      "Classification Report:\n",
      "               precision    recall  f1-score   support\n",
      "\n",
      "    Negative       0.80      0.78      0.79       643\n",
      "     Neutral       0.51      0.12      0.20       437\n",
      "    Positive       0.88      0.98      0.93      3019\n",
      "\n",
      "    accuracy                           0.86      4099\n",
      "   macro avg       0.73      0.63      0.64      4099\n",
      "weighted avg       0.83      0.86      0.83      4099\n",
      "\n"
     ]
    }
   ],
   "source": [
    "from sklearn.model_selection import GridSearchCV\n",
    "from sklearn.svm import SVC\n",
    "from sklearn.naive_bayes import MultinomialNB\n",
    "from sklearn.ensemble import VotingClassifier\n",
    "import pickle\n",
    "\n",
    "# Define parameter grids\n",
    "svm_params = {'C': [0.1, 1, 10], 'kernel': ['linear', 'rbf'], 'gamma': ['scale', 'auto']}\n",
    "nb_params = {'alpha': [0.1, 0.5, 1.0]}\n",
    "\n",
    "# Grid Search for SVM\n",
    "svm = SVC(probability=True)  # Enable probability for soft voting\n",
    "svm_grid = GridSearchCV(svm, svm_params, cv=3, scoring='accuracy', n_jobs=-1, verbose=2)\n",
    "svm_grid.fit(X_train, y_train)\n",
    "\n",
    "# Best SVM parameters\n",
    "best_svm = svm_grid.best_estimator_\n",
    "print(\"Best SVM Parameters:\", svm_grid.best_params_)\n",
    "\n",
    "# Grid Search for Naïve Bayes\n",
    "nb = MultinomialNB()\n",
    "nb_grid = GridSearchCV(nb, nb_params, cv=3, scoring='accuracy', n_jobs=-1, verbose=2)\n",
    "nb_grid.fit(X_train, y_train)\n",
    "\n",
    "# Best Naïve Bayes parameters\n",
    "best_nb = nb_grid.best_estimator_\n",
    "print(\"Best Naïve Bayes Parameters:\", nb_grid.best_params_)\n",
    "\n",
    "# Train optimized VotingClassifier\n",
    "ensemble_model = VotingClassifier(estimators=[('svm', best_svm), ('nb', best_nb)], voting='soft')\n",
    "ensemble_model.fit(X_train, y_train)\n",
    "\n",
    "# Save the optimized model\n",
    "with open(\"optimized_ensemble_model.pkl\", \"wb\") as file:\n",
    "    pickle.dump(ensemble_model, file)\n",
    "\n",
    "# Evaluate performance\n",
    "y_pred = ensemble_model.predict(X_test)\n",
    "accuracy = accuracy_score(y_test, y_pred)\n",
    "print(\"Optimized Ensemble Model Accuracy:\", accuracy)\n",
    "print(\"\\nClassification Report:\\n\", classification_report(y_test, y_pred))\n"
   ]
  },
  {
   "cell_type": "code",
   "execution_count": 15,
   "metadata": {},
   "outputs": [
    {
     "name": "stdout",
     "output_type": "stream",
     "text": [
      "Review: The hotel was amazing! Great service and friendly staff. -> Predicted Sentiment: Positive\n",
      "Review: Worst experience ever. The room was dirty and smelled bad. -> Predicted Sentiment: Negative\n",
      "Review: It was okay, nothing special but not too bad either. -> Predicted Sentiment: Neutral\n"
     ]
    }
   ],
   "source": [
    "# Sample test reviews\n",
    "sample_reviews = [\n",
    "    \"The hotel was amazing! Great service and friendly staff.\",\n",
    "    \"Worst experience ever. The room was dirty and smelled bad.\",\n",
    "    \"It was okay, nothing special but not too bad either.\"\n",
    "]\n",
    "\n",
    "# Transform the reviews using the saved TF-IDF vectorizer\n",
    "with open(\"tfidf_vectorizer.pkl\", \"rb\") as file:\n",
    "    tfidf_vectorizer = pickle.load(file)\n",
    "\n",
    "sample_tfidf = tfidf_vectorizer.transform(sample_reviews)\n",
    "\n",
    "# Predict sentiment\n",
    "sample_predictions = optimized_model.predict(sample_tfidf)\n",
    "\n",
    "# Display predictions\n",
    "for review, sentiment in zip(sample_reviews, sample_predictions):\n",
    "    print(f\"Review: {review} -> Predicted Sentiment: {sentiment}\")\n"
   ]
  }
 ],
 "metadata": {
  "kernelspec": {
   "display_name": "Python 3",
   "language": "python",
   "name": "python3"
  },
  "language_info": {
   "codemirror_mode": {
    "name": "ipython",
    "version": 3
   },
   "file_extension": ".py",
   "mimetype": "text/x-python",
   "name": "python",
   "nbconvert_exporter": "python",
   "pygments_lexer": "ipython3",
   "version": "3.12.3"
  }
 },
 "nbformat": 4,
 "nbformat_minor": 2
}
